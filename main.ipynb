{
  "nbformat": 4,
  "nbformat_minor": 0,
  "metadata": {
    "accelerator": "GPU",
    "colab": {
      "name": "main",
      "provenance": [],
      "collapsed_sections": [],
      "machine_shape": "hm",
      "mount_file_id": "13I61XXlTq5K93lC90_iBKro82nSfIrqH",
      "authorship_tag": "ABX9TyPSIW9NPrhb5Wi8PkaO4alt",
      "include_colab_link": true
    },
    "kernelspec": {
      "display_name": "Python 3",
      "name": "python3"
    },
    "language_info": {
      "name": "python"
    }
  },
  "cells": [
    {
      "cell_type": "markdown",
      "metadata": {
        "id": "view-in-github",
        "colab_type": "text"
      },
      "source": [
        "<a href=\"https://colab.research.google.com/github/dwhite25/MSG-CcGAN/blob/main/main.ipynb\" target=\"_parent\"><img src=\"https://colab.research.google.com/assets/colab-badge.svg\" alt=\"Open In Colab\"/></a>"
      ]
    },
    {
      "cell_type": "code",
      "metadata": {
        "colab": {
          "base_uri": "https://localhost:8080/"
        },
        "id": "DBaQ_JmSIibW",
        "outputId": "a483327d-b3a1-4417-f03d-92a88570710d"
      },
      "source": [
        "from google.colab import drive\n",
        "drive.mount('/content/drive')"
      ],
      "execution_count": null,
      "outputs": [
        {
          "output_type": "stream",
          "name": "stdout",
          "text": [
            "Drive already mounted at /content/drive; to attempt to forcibly remount, call drive.mount(\"/content/drive\", force_remount=True).\n"
          ]
        }
      ]
    },
    {
      "cell_type": "code",
      "metadata": {
        "colab": {
          "base_uri": "https://localhost:8080/"
        },
        "id": "_zkZcoC7M9oj",
        "outputId": "b3550820-3c74-4fb0-8135-60dbf2cb01c7"
      },
      "source": [
        "import sys\n",
        "sys.path.append('/content/drive/MyDrive/GWPAC/MSG-cGAN/Ours/classes')\n",
        "!pip install tensorflow-addons"
      ],
      "execution_count": null,
      "outputs": [
        {
          "output_type": "stream",
          "name": "stdout",
          "text": [
            "Collecting tensorflow-addons\n",
            "  Downloading tensorflow_addons-0.15.0-cp37-cp37m-manylinux_2_12_x86_64.manylinux2010_x86_64.whl (1.1 MB)\n",
            "\u001b[K     |████████████████████████████████| 1.1 MB 500 kB/s \n",
            "\u001b[?25hRequirement already satisfied: typeguard>=2.7 in /usr/local/lib/python3.7/dist-packages (from tensorflow-addons) (2.7.1)\n",
            "Installing collected packages: tensorflow-addons\n",
            "Successfully installed tensorflow-addons-0.15.0\n"
          ]
        }
      ]
    },
    {
      "cell_type": "code",
      "metadata": {
        "id": "jeIOqnP3qe2R"
      },
      "source": [
        "import tensorflow as tf \n",
        "import dataset as ds\n",
        "import msggan as gan\n",
        "from pathlib import Path\n",
        "import zipfile\n",
        "import csv"
      ],
      "execution_count": null,
      "outputs": []
    },
    {
      "cell_type": "code",
      "metadata": {
        "colab": {
          "base_uri": "https://localhost:8080/"
        },
        "id": "NuefBrCE7p4E",
        "outputId": "f94fae71-5ac5-4b90-966f-9ec3badf10ba"
      },
      "source": [
        "# get all 16Gb of sims into the runtime before we start having to do everything else\n",
        "# this should make the program run much faster than having to load each file just-in-time\n",
        "\n",
        "zippath = 'drive/MyDrive/GWPAC/MSG-cGAN/Ours/ins/time_series/has_postmergers/sims.zip'\n",
        "\n",
        "print('unzipping files in runtime environment. this will take ~10 minutes.')\n",
        "\n",
        "sims = zipfile.ZipFile(zippath, 'r')\n",
        "sims.extractall()\n",
        "sims.close()\n",
        "\n",
        "print('...done.')"
      ],
      "execution_count": null,
      "outputs": [
        {
          "output_type": "stream",
          "name": "stdout",
          "text": [
            "unzipping files in runtime environment. this will take ~10 minutes.\n",
            "...done.\n"
          ]
        }
      ]
    },
    {
      "cell_type": "code",
      "metadata": {
        "id": "Sdg--CPA7oUu"
      },
      "source": [
        "# define key variables/arguments\n",
        "\n",
        "loadweights = False\n",
        "usebias     = False\n",
        "nrns        = 128\n",
        "glr         = 1e-2\n",
        "dlr         = 1e-2\n",
        "r1g         = 1e-1\n",
        "epsln       = 1e-5\n",
        "res         = 8192\n",
        "bsize       = 32\n",
        "ksize       = 5\n",
        "metadata    = 'drive/MyDrive/GWPAC/MSG-cGAN/Ours/ins/time_series/has_postmergers/METADATA.csv'"
      ],
      "execution_count": null,
      "outputs": []
    },
    {
      "cell_type": "code",
      "metadata": {
        "id": "AeDa6FeK69Uc"
      },
      "source": [
        "pathway = 'sims'\n",
        "outpath = f'drive/MyDrive/GWPAC/MSG-cGAN/Ours/outs/ccgan_0.01sd_{res}d_{nrns}n_{glr}_{dlr}_{r1g}r_{epsln}e_{ksize}k_b2'\n",
        "weights = f'drive/MyDrive/GWPAC/MSG-cGAN/Ours/outs/ccgan_0.01sd_{res}d_{nrns}n_{glr}_{dlr}_{r1g}r_{epsln}e_{ksize}k/weights'\n",
        "\n",
        "# save some of the data about the run to the attrs file, in case we want to look this info up later\n",
        "Path(outpath).mkdir(exist_ok=True)\n",
        "with open(outpath + '/attrs.csv', 'w', newline='') as f:\n",
        "    writer = csv.writer(f)\n",
        "    writer.writerow(['loadweights', loadweights])\n",
        "    writer.writerow(['neurons', nrns])\n",
        "    writer.writerow(['g learning rate', glr])\n",
        "    writer.writerow(['d learning rate', dlr])\n",
        "    writer.writerow(['r1gamma', r1g])\n",
        "    writer.writerow(['epsilon', epsln])\n",
        "    writer.writerow(['resolution', res])\n",
        "    writer.writerow(['batch size', bsize])\n",
        "\n",
        "# load the dataset\n",
        "dataset = ds.Dataset(batch_size=bsize, pathway=pathway, mdpath=metadata, outpath=outpath, nlabels=4, endres=res)\n",
        "\n",
        "# call the GAN class\n",
        "msgg = gan.MSG_CcGAN_ts(neurs=nrns, endres=res, g_lr=glr, d_lr=dlr, r1_gamma=r1g, epsilon=epsln, \n",
        "                        outpath=outpath, epochs=500000, nchannels=2, ksize=ksize, usebias=usebias)\n",
        "\n",
        "# continue from previous save point?\n",
        "if loadweights == True:\n",
        "    msgg.D.load_weights(weights + '/discriminator23000.h5')\n",
        "    msgg.G.load_weights(weights + '/generator23000.h5')\n",
        "\n",
        "# start the training loop...\n",
        "msgg.train(dataset)\n",
        "\n",
        "# ... or make sample waveforms \n",
        "# msgg.makewaves(dataset)"
      ],
      "execution_count": null,
      "outputs": []
    }
  ]
}